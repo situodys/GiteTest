{
  "nbformat": 4,
  "nbformat_minor": 0,
  "metadata": {
    "colab": {
      "name": "linearAlegbra_1129.ipynb",
      "provenance": [],
      "authorship_tag": "ABX9TyOGP3mSXBmIDqAbQJi+PnpG",
      "include_colab_link": true
    },
    "kernelspec": {
      "name": "python3",
      "display_name": "Python 3"
    },
    "language_info": {
      "name": "python"
    }
  },
  "cells": [
    {
      "cell_type": "markdown",
      "metadata": {
        "id": "view-in-github",
        "colab_type": "text"
      },
      "source": [
        "<a href=\"https://colab.research.google.com/github/situodys/GiteTest/blob/master/linearAlegbra_1129.ipynb\" target=\"_parent\"><img src=\"https://colab.research.google.com/assets/colab-badge.svg\" alt=\"Open In Colab\"/></a>"
      ]
    },
    {
      "cell_type": "code",
      "metadata": {
        "id": "h8wZPQx18OoK"
      },
      "source": [
        "import numpy as np"
      ],
      "execution_count": 6,
      "outputs": []
    },
    {
      "cell_type": "code",
      "metadata": {
        "colab": {
          "base_uri": "https://localhost:8080/"
        },
        "id": "eChe67VF_bCo",
        "outputId": "ffc19e21-e970-45cc-efc4-072a47ec5dce"
      },
      "source": [
        " A = np.array([[0,1,-2.3,0.1], [1.3, 4, -0.1, 0], [4.1, -1.0, 0, 1.7]])\n",
        "print(A)\n",
        "A.shape"
      ],
      "execution_count": 17,
      "outputs": [
        {
          "output_type": "stream",
          "name": "stdout",
          "text": [
            "[[ 0.   1.  -2.3  0.1]\n",
            " [ 1.3  4.  -0.1  0. ]\n",
            " [ 4.1 -1.   0.   1.7]]\n"
          ]
        },
        {
          "output_type": "execute_result",
          "data": {
            "text/plain": [
              "(3, 4)"
            ]
          },
          "metadata": {},
          "execution_count": 17
        }
      ]
    },
    {
      "cell_type": "code",
      "metadata": {
        "colab": {
          "base_uri": "https://localhost:8080/"
        },
        "id": "m9AOeejfA9Fu",
        "outputId": "172164ee-ac06-4edc-8212-70f2dee3101f"
      },
      "source": [
        "m,n = A.shape\n",
        "print('m: ', m)\n",
        "print('n: ', n)"
      ],
      "execution_count": 19,
      "outputs": [
        {
          "output_type": "stream",
          "name": "stdout",
          "text": [
            "m:  3\n",
            "n:  4\n"
          ]
        }
      ]
    },
    {
      "cell_type": "code",
      "metadata": {
        "colab": {
          "base_uri": "https://localhost:8080/"
        },
        "id": "msHkkvudA1Ob",
        "outputId": "0998da47-37e8-4390-de2d-73fd028754a8"
      },
      "source": [
        "tall = lambda X: A.shape[0] > A.shape[1]\n",
        "tall(A)"
      ],
      "execution_count": 20,
      "outputs": [
        {
          "output_type": "execute_result",
          "data": {
            "text/plain": [
              "False"
            ]
          },
          "metadata": {},
          "execution_count": 20
        }
      ]
    },
    {
      "cell_type": "code",
      "metadata": {
        "colab": {
          "base_uri": "https://localhost:8080/"
        },
        "id": "su-oGXULBhd9",
        "outputId": "c4c733d6-0a9a-46e8-b737-dfe0d73ba87e"
      },
      "source": [
        "A[0,2]=7.5\n",
        "A\n"
      ],
      "execution_count": 23,
      "outputs": [
        {
          "output_type": "execute_result",
          "data": {
            "text/plain": [
              "array([[ 0. ,  1. ,  7.5,  0.1],\n",
              "       [ 1.3,  4. , -0.1,  0. ],\n",
              "       [ 4.1, -1. ,  0. ,  1.7]])"
            ]
          },
          "metadata": {},
          "execution_count": 23
        }
      ]
    },
    {
      "cell_type": "code",
      "metadata": {
        "colab": {
          "base_uri": "https://localhost:8080/"
        },
        "id": "W7zDFcMfBowi",
        "outputId": "8c853f24-0db0-4e59-9ed4-6dada880f4c6"
      },
      "source": [
        "A = np.array([[0,1,-2.3,0.1], [1.3, 4, -0.1, 0], [4.1, -1.0, 0, 1.7]])\n",
        "B = A.copy()\n",
        "print(A==B)\n",
        "print(np.sum(A==B))"
      ],
      "execution_count": 24,
      "outputs": [
        {
          "output_type": "stream",
          "name": "stdout",
          "text": [
            "[[ True  True  True  True]\n",
            " [ True  True  True  True]\n",
            " [ True  True  True  True]]\n",
            "12\n"
          ]
        }
      ]
    },
    {
      "cell_type": "code",
      "metadata": {
        "colab": {
          "base_uri": "https://localhost:8080/"
        },
        "id": "pyJRsnVdB8Wn",
        "outputId": "58c6d341-ca57-4d69-9c19-ed5c599d6902"
      },
      "source": [
        "B[0,3]=1\n",
        "print(A==B)\n",
        "print(np.sum(A==B))"
      ],
      "execution_count": 25,
      "outputs": [
        {
          "output_type": "stream",
          "name": "stdout",
          "text": [
            "[[ True  True  True False]\n",
            " [ True  True  True  True]\n",
            " [ True  True  True  True]]\n",
            "11\n"
          ]
        }
      ]
    },
    {
      "cell_type": "code",
      "metadata": {
        "colab": {
          "base_uri": "https://localhost:8080/"
        },
        "id": "0G52KPhODLzp",
        "outputId": "8940f547-749d-4dbd-a5a4-429daef773fc"
      },
      "source": [
        "A = np.array([[-1,0,1,0],[1,5,8,9],[10,20,30,40]])\n",
        "print(A)\n",
        "A[0:2,2:4]\n",
        "A[:,2]\n",
        "A[1,:]"
      ],
      "execution_count": 33,
      "outputs": [
        {
          "output_type": "stream",
          "name": "stdout",
          "text": [
            "[[-1  0  1  0]\n",
            " [ 1  5  8  9]\n",
            " [10 20 30 40]]\n"
          ]
        },
        {
          "output_type": "execute_result",
          "data": {
            "text/plain": [
              "array([1, 5, 8, 9])"
            ]
          },
          "metadata": {},
          "execution_count": 33
        }
      ]
    },
    {
      "cell_type": "code",
      "metadata": {
        "colab": {
          "base_uri": "https://localhost:8080/"
        },
        "id": "7LehffcLDvQd",
        "outputId": "05ba8688-ac78-4817-c84e-37599e996b55"
      },
      "source": [
        "A.reshape((6,2))\n",
        "A.reshape((1,12))"
      ],
      "execution_count": 38,
      "outputs": [
        {
          "output_type": "execute_result",
          "data": {
            "text/plain": [
              "array([[-1,  0,  1,  0,  1,  5,  8,  9, 10, 20, 30, 40]])"
            ]
          },
          "metadata": {},
          "execution_count": 38
        }
      ]
    },
    {
      "cell_type": "code",
      "metadata": {
        "colab": {
          "base_uri": "https://localhost:8080/"
        },
        "id": "vefT65bRFzQB",
        "outputId": "68df2ca9-36e1-48c0-abfd-21deafaac888"
      },
      "source": [
        "b=np.array([0,2,3])\n",
        "c=np.array([-1])\n",
        "d=np.array([[2,2,1],[1,3,5]])\n",
        "e=np.array([[4],[4]])\n",
        "\n",
        "a= np.block([[b,c],[d,e]])\n",
        "a"
      ],
      "execution_count": 39,
      "outputs": [
        {
          "output_type": "execute_result",
          "data": {
            "text/plain": [
              "array([[ 0,  2,  3, -1],\n",
              "       [ 2,  2,  1,  4],\n",
              "       [ 1,  3,  5,  4]])"
            ]
          },
          "metadata": {},
          "execution_count": 39
        }
      ]
    },
    {
      "cell_type": "code",
      "metadata": {
        "colab": {
          "base_uri": "https://localhost:8080/"
        },
        "id": "XczHOE-OGdVo",
        "outputId": "994bba74-84e8-43f3-c3b7-d1d39a06549f"
      },
      "source": [
        "a=[1,2]\n",
        "b=[4,5]\n",
        "c=[7,8]\n",
        "\n",
        "A=np.vstack([a,b,c])\n",
        "B=np.hstack([a,b,c])\n",
        "\n",
        "print('matrix A :',A)\n",
        "print('dimension of A :',A.shape)\n",
        "print('matrix B :',B)\n",
        "print('dimension of B :',B.shape)"
      ],
      "execution_count": 40,
      "outputs": [
        {
          "output_type": "stream",
          "name": "stdout",
          "text": [
            "matrix A : [[1 2]\n",
            " [4 5]\n",
            " [7 8]]\n",
            "dimension of A : (3, 2)\n",
            "matrix B : [1 2 4 5 7 8]\n",
            "dimension of B : (6,)\n"
          ]
        }
      ]
    },
    {
      "cell_type": "code",
      "metadata": {
        "colab": {
          "base_uri": "https://localhost:8080/"
        },
        "id": "VJ1VfEpvHV9S",
        "outputId": "21ecf58b-56bb-41ed-bf68-80129d7cc507"
      },
      "source": [
        "a=[[1],[2]]\n",
        "b=[[4],[5]]\n",
        "c=[[7],[8]]\n",
        "\n",
        "A=np.vstack([a,b,c])\n",
        "B=np.hstack([a,b,c])\n",
        "\n",
        "print('matrix A :',A)\n",
        "print('dimension of A :',A.shape)\n",
        "print('matrix B :',B)\n",
        "print('dimension of B :',B.shape)"
      ],
      "execution_count": 41,
      "outputs": [
        {
          "output_type": "stream",
          "name": "stdout",
          "text": [
            "matrix A : [[1]\n",
            " [2]\n",
            " [4]\n",
            " [5]\n",
            " [7]\n",
            " [8]]\n",
            "dimension of A : (6, 1)\n",
            "matrix B : [[1 4 7]\n",
            " [2 5 8]]\n",
            "dimension of B : (2, 3)\n"
          ]
        }
      ]
    },
    {
      "cell_type": "code",
      "metadata": {
        "colab": {
          "base_uri": "https://localhost:8080/"
        },
        "id": "M3hV9XCiJDEw",
        "outputId": "6c4c3aca-2320-4bfb-dd60-3b10fb0cfa09"
      },
      "source": [
        "np.zeros((4,3))\n",
        "np.ones((4,4))\n",
        "np.identity(4)\n",
        "x= np.array([[0,1,2],[3,4,5],[6,7,8]])\n",
        "v=np.diag(x)\n",
        "v\n",
        "np.random.random((2,3))"
      ],
      "execution_count": 52,
      "outputs": [
        {
          "output_type": "execute_result",
          "data": {
            "text/plain": [
              "array([[0.4166053 , 0.3860182 , 0.45451633],\n",
              "       [0.90998333, 0.67307034, 0.65818689]])"
            ]
          },
          "metadata": {},
          "execution_count": 52
        }
      ]
    },
    {
      "cell_type": "code",
      "metadata": {
        "colab": {
          "base_uri": "https://localhost:8080/"
        },
        "id": "QrMNIzBMJmmV",
        "outputId": "74bfbc78-7205-4fc9-a530-5bb5314712d5"
      },
      "source": [
        "np.random.randn(3,2)"
      ],
      "execution_count": 53,
      "outputs": [
        {
          "output_type": "execute_result",
          "data": {
            "text/plain": [
              "array([[-0.54806138,  1.96261602],\n",
              "       [-0.62379087, -0.16244477],\n",
              "       [-1.60724291,  0.6576454 ]])"
            ]
          },
          "metadata": {},
          "execution_count": 53
        }
      ]
    },
    {
      "cell_type": "code",
      "metadata": {
        "colab": {
          "base_uri": "https://localhost:8080/",
          "height": 485
        },
        "id": "3O-B5zG7NZeE",
        "outputId": "ed74d312-1397-47bc-ca30-8d2f15b03dc3"
      },
      "source": [
        "Rot = lambda theta: [[np.cos(theta), -np.sin(theta)],[np.sin(theta), np.cos(theta)]]\n",
        "R = Rot(np.pi/2)\n",
        "R\n",
        "\n",
        "points = np.array([[1,0],[1.5,0],[2,0],[1,0.25],[1.5,0.25],[1,0.5]])\n",
        "\n",
        "rpoints = np.array([R @ p for p in points])\n",
        "\n",
        "print(points)\n",
        "print(rpoints)\n",
        "\n",
        "import matplotlib.pyplot as plt\n",
        "plt.ion()\n",
        "plt.scatter([c[0] for c in points], [c[1] for c in points])\n",
        "plt.scatter([c[0] for c in rpoints],[c[1] for c in rpoints])\n",
        "plt.show()\n"
      ],
      "execution_count": 57,
      "outputs": [
        {
          "output_type": "stream",
          "name": "stdout",
          "text": [
            "[[1.   0.  ]\n",
            " [1.5  0.  ]\n",
            " [2.   0.  ]\n",
            " [1.   0.25]\n",
            " [1.5  0.25]\n",
            " [1.   0.5 ]]\n",
            "[[ 6.12323400e-17  1.00000000e+00]\n",
            " [ 9.18485099e-17  1.50000000e+00]\n",
            " [ 1.22464680e-16  2.00000000e+00]\n",
            " [-2.50000000e-01  1.00000000e+00]\n",
            " [-2.50000000e-01  1.50000000e+00]\n",
            " [-5.00000000e-01  1.00000000e+00]]\n"
          ]
        },
        {
          "output_type": "display_data",
          "data": {
            "image/png": "[encoded data removed]",
            "text/plain": [
              "<Figure size 432x288 with 1 Axes>"
            ]
          },
          "metadata": {
            "needs_background": "light"
          }
        }
      ]
    }
  ]
}